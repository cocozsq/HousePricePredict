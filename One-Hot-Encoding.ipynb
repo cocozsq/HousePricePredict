{
 "cells": [
  {
   "cell_type": "code",
   "execution_count": 2,
   "metadata": {},
   "outputs": [],
   "source": [
    "import pandas as pd\n",
    "from sklearn.metrics import mean_absolute_error\n",
    "from sklearn.ensemble import RandomForestRegressor\n",
    "from sklearn.model_selection import train_test_split\n",
    "from sklearn.preprocessing import Imputer"
   ]
  },
  {
   "cell_type": "code",
   "execution_count": 3,
   "metadata": {},
   "outputs": [],
   "source": [
    "train_data_path = 'data/train.csv'\n",
    "test_data_path = 'data/test.csv'\n",
    "train_data = pd.read_csv(train_data_path)\n",
    "test_data =  pd.read_csv(test_data_path)"
   ]
  },
  {
   "cell_type": "code",
   "execution_count": 7,
   "metadata": {},
   "outputs": [],
   "source": [
    "# drop houses where the target is missing\n",
    "train_data.dropna(axis=0, subset=['SalePrice'], inplace=True)\n",
    "\n",
    "target = train_data.SalePrice\n",
    "\n",
    "cols_with_missing = [col for col in train_data.columns if train_data[col].isnull().any()]\n",
    "\n",
    "candidate_train_predictors = train_data.drop(['Id', 'SalePrice'] + cols_with_missing, axis=1)\n",
    "\n",
    "candidate_test_predictors = test_data.drop(['Id']+cols_with_missing, axis=1)\n",
    "\n",
    "low_cardinality_cols = [cname for cname in candidate_train_predictors.columns \n",
    "                        if candidate_train_predictors[cname].nunique()<10 and \n",
    "                       candidate_train_predictors[cname].dtype=='object']\n",
    "numeric_cols = [cname for cname in candidate_train_predictors.columns\n",
    "               if candidate_train_predictors[cname].dtype in ['int64', 'float64']]\n",
    "my_cols = low_cardinality_cols + numeric_cols\n",
    "train_predictors = candidate_train_predictors[my_cols]\n",
    "test_predictors = candidate_test_predictors[my_cols]"
   ]
  },
  {
   "cell_type": "code",
   "execution_count": 8,
   "metadata": {},
   "outputs": [
    {
     "data": {
      "text/plain": [
       "LotArea           int64\n",
       "Functional       object\n",
       "Heating          object\n",
       "BedroomAbvGr      int64\n",
       "ScreenPorch       int64\n",
       "OpenPorchSF       int64\n",
       "OverallQual       int64\n",
       "SaleCondition    object\n",
       "LowQualFinSF      int64\n",
       "ExterCond        object\n",
       "dtype: object"
      ]
     },
     "execution_count": 8,
     "metadata": {},
     "output_type": "execute_result"
    }
   ],
   "source": [
    "train_predictors.dtypes.sample(10)"
   ]
  },
  {
   "cell_type": "code",
   "execution_count": 10,
   "metadata": {},
   "outputs": [],
   "source": [
    "one_hot_encoded_training_predictors = pd.get_dummies(train_predictors)\n",
    "# one_hot_encoded_training_predictors"
   ]
  },
  {
   "cell_type": "code",
   "execution_count": 13,
   "metadata": {},
   "outputs": [],
   "source": [
    "from sklearn.model_selection import cross_val_score"
   ]
  },
  {
   "cell_type": "code",
   "execution_count": 16,
   "metadata": {},
   "outputs": [
    {
     "name": "stdout",
     "output_type": "stream",
     "text": [
      "Mean Absolute Error when Droppping Categoricals:18516\n",
      "Mean Absolute Error with One_Hot_Encoding :18343\n"
     ]
    }
   ],
   "source": [
    "# multiple by -1 to make positive MAE score instead of neg value returned as sklearn convertion\n",
    "def get_mae(X, y):\n",
    "    return -1 * cross_val_score(RandomForestRegressor(50), X, y, scoring='neg_mean_absolute_error').mean()\n",
    "predictors_without_categoricals = train_predictors.select_dtypes(exclude=['object'])\n",
    "mae_without_categoricals = get_mae(predictors_without_categoricals, target)\n",
    "mae_one_hot_encoded =  get_mae(one_hot_encoded_training_predictors, target)\n",
    "print(\"Mean Absolute Error when Droppping Categoricals:\"+ str(int(mae_without_categoricals)))\n",
    "print(\"Mean Absolute Error with One_Hot_Encoding :\"+ str(int(mae_one_hot_encoded)))"
   ]
  },
  {
   "cell_type": "code",
   "execution_count": null,
   "metadata": {},
   "outputs": [],
   "source": [
    "def "
   ]
  }
 ],
 "metadata": {
  "kernelspec": {
   "display_name": "Python 3",
   "language": "python",
   "name": "python3"
  },
  "language_info": {
   "codemirror_mode": {
    "name": "ipython",
    "version": 3
   },
   "file_extension": ".py",
   "mimetype": "text/x-python",
   "name": "python",
   "nbconvert_exporter": "python",
   "pygments_lexer": "ipython3",
   "version": "3.6.5"
  }
 },
 "nbformat": 4,
 "nbformat_minor": 2
}
